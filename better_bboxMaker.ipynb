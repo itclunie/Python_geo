{
 "cells": [
  {
   "cell_type": "code",
   "execution_count": 1,
   "metadata": {},
   "outputs": [],
   "source": [
    "import shapefile\n",
    "import shapely\n",
    "from shapely.geometry import Polygon"
   ]
  },
  {
   "cell_type": "code",
   "execution_count": 2,
   "metadata": {},
   "outputs": [
    {
     "name": "stdout",
     "output_type": "stream",
     "text": [
      "[-77.238473, 38.737496]\n"
     ]
    }
   ],
   "source": [
    "Coords = [[-77.243622, 38.737496], [-77.238473, 38.735353]] #NWxy, SExy\n",
    "\n",
    "NW = Coords[0]\n",
    "NWxSEy = [Coords[0][0], Coords[1][1]]\n",
    "SE = Coords[1]\n",
    "SExNWy = [Coords[1][0], Coords[0][1]]\n",
    "\n",
    "print(SExNWy)"
   ]
  },
  {
   "cell_type": "code",
   "execution_count": 4,
   "metadata": {},
   "outputs": [],
   "source": [
    "w = shapefile.Writer(shapeType=shapefile.POLYGON)\n",
    "w.field('name')\n",
    "w.poly(parts=[[NW,NWxSEy,SE,SExNWy]])\n",
    "w.record('t1')\n",
    "w.save(r'H:\\Development\\polyTest.shp')"
   ]
  }
 ],
 "metadata": {
  "kernelspec": {
   "display_name": "Python 3",
   "language": "python",
   "name": "python3"
  },
  "language_info": {
   "codemirror_mode": {
    "name": "ipython",
    "version": 3
   },
   "file_extension": ".py",
   "mimetype": "text/x-python",
   "name": "python",
   "nbconvert_exporter": "python",
   "pygments_lexer": "ipython3",
   "version": "3.6.2"
  }
 },
 "nbformat": 4,
 "nbformat_minor": 2
}
