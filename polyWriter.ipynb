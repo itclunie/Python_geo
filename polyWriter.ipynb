{
 "cells": [
  {
   "cell_type": "code",
   "execution_count": 1,
   "metadata": {},
   "outputs": [
    {
     "data": {
      "image/svg+xml": [
       "<svg xmlns=\"http://www.w3.org/2000/svg\" xmlns:xlink=\"http://www.w3.org/1999/xlink\" width=\"100.0\" height=\"100.0\" viewBox=\"-77.26620727999999 38.67885672 0.0007635599999815668 0.0005925600000011855\" preserveAspectRatio=\"xMinYMin meet\"><g transform=\"matrix(1,0,0,-1,0,77.358306)\"><path fill-rule=\"evenodd\" fill=\"#66cc99\" stroke=\"#555555\" stroke-width=\"1.5271199999631334e-05\" opacity=\"0.6\" d=\"M -77.266179,38.679197 L -77.265778,38.679421 L -77.265472,38.678983 L -77.265595,38.678885 L -77.266179,38.679197 z\" /></g></svg>"
      ],
      "text/plain": [
       "<shapely.geometry.polygon.Polygon at 0x2bfa60ee668>"
      ]
     },
     "execution_count": 1,
     "metadata": {},
     "output_type": "execute_result"
    }
   ],
   "source": [
    "import shapefile\n",
    "import requests\n",
    "import shapely\n",
    "from pyproj import Proj, transform\n",
    "from shapely.geometry import Polygon\n",
    "\n",
    "# 1 -77.266179,38.679197\n",
    "# 2 -77.265778,38.679421\n",
    "# 3 -77.265472,38.678983\n",
    "# 4 -77.265595,38.678885\n",
    "# 1 -77.266179,38.679197\n",
    "\n",
    "poly = shapely.geometry.Polygon([[-77.266179,38.679197],[-77.265778,38.679421],[-77.265472,38.678983],[-77.265595,38.678885],[-77.266179,38.679197]])\n",
    "poly"
   ]
  },
  {
   "cell_type": "code",
   "execution_count": 32,
   "metadata": {},
   "outputs": [],
   "source": [
    "out_file = 'lotpoly'\n",
    "\n",
    "w = shapefile.Writer(shapeType=shapefile.POLYGON)\n",
    "w.field('name')\n",
    "w.poly(parts=[[[-77.266179,38.679197],[-77.265778,38.679421],[-77.265472,38.678983],[-77.265595,38.678885],[-77.266179,38.679197]]])\n",
    "w.record('t1')\n",
    "w.save(out_file + \".shp\")\n",
    "\n",
    "prj = open(out_file + \".prj\", \"w\")\n",
    "wkt = requests.get(\"http://spatialreference.org/ref/epsg/4326/prettywkt/\")\n",
    "remove_spaces = wkt.text.replace(\" \",\"\")\n",
    "epsg = remove_spaces.replace(\"\\n\", \"\")\n",
    "prj.write(epsg)\n",
    "prj.close()"
   ]
  }
 ],
 "metadata": {
  "kernelspec": {
   "display_name": "Python 3",
   "language": "python",
   "name": "python3"
  },
  "language_info": {
   "codemirror_mode": {
    "name": "ipython",
    "version": 3
   },
   "file_extension": ".py",
   "mimetype": "text/x-python",
   "name": "python",
   "nbconvert_exporter": "python",
   "pygments_lexer": "ipython3",
   "version": "3.6.2"
  }
 },
 "nbformat": 4,
 "nbformat_minor": 2
}
