{
 "cells": [
  {
   "cell_type": "code",
   "execution_count": 1,
   "metadata": {},
   "outputs": [],
   "source": [
    "import shapefile\n",
    "import shapely\n",
    "from shapely.geometry import box\n",
    "from shapely.geometry import Point, LineString"
   ]
  },
  {
   "cell_type": "code",
   "execution_count": 6,
   "metadata": {},
   "outputs": [
    {
     "name": "stdout",
     "output_type": "stream",
     "text": [
      "[[-77.243622, 38.737496], [-77.243622, -90.0]]\n",
      "[[-77.243622, 38.737496], [180.0, 38.737496]]\n",
      "[[-77.238473, 38.735353], [-77.238473, 90.0]]\n",
      "[[-77.238473, 38.735353], [-180.0, 38.735353]]\n"
     ]
    }
   ],
   "source": [
    "Coords = [[-77.243622, 38.737496], [-77.238473, 38.735353]] #NWxy, SExy\n",
    "\n",
    "NWx = Coords[0][0]\n",
    "NWy = Coords[0][1]\n",
    "SEx = Coords[1][0]\n",
    "SEy = Coords[1][1]\n",
    "\n",
    "\n",
    "NWxL = LineString([(NWx,NWy), (NWx, -90.0)]) #pres position to south pole\n",
    "NWyL = LineString([(NWx,NWy), (180.0, NWy)])  #pres position to + Antimeridian\n",
    "\n",
    "SExL = LineString([(SEx,SEy), (SEx, 90.0,)]) #pres position to north pole\n",
    "SEyL = LineString([(SEx,SEy), (-180.0, SEy)]) #pres position to - Antimeridian\n",
    "\n",
    "\n",
    "linesDict = {}\n",
    "linesDict['NWxL'] = [list(l) for l in NWxL.__geo_interface__['coordinates']]\n",
    "linesDict['NWyL'] = [list(l) for l in NWyL.__geo_interface__['coordinates']]\n",
    "linesDict['SExL'] = [list(l) for l in SExL.__geo_interface__['coordinates']]\n",
    "linesDict['SEyL'] = [list(l) for l in SEyL.__geo_interface__['coordinates']]\n",
    "\n",
    "w = shapefile.Writer(shapeType=shapefile.POLYLINE)\n",
    "w.field('name')\n",
    "\n",
    "for key in linesDict:\n",
    "    print(linesDict[key])\n",
    "    w.line(parts=[linesDict[key]])\n",
    "    w.record(key)\n",
    "\n",
    "w.save(r'H:\\Development\\lineTest2.shp')"
   ]
  },
  {
   "cell_type": "code",
   "execution_count": 49,
   "metadata": {},
   "outputs": [
    {
     "name": "stdout",
     "output_type": "stream",
     "text": [
      "[[-77.243622, 38.737496], [-77.238473, 38.737496], [-77.238473, 38.735353], [-77.243622, 38.735353], [-77.243622, 38.737496]]\n"
     ]
    }
   ],
   "source": [
    "NW = list(Coords[0])\n",
    "SE = list(Coords[1])\n",
    "NWy_SEx = list(NWyL.intersection(SExL).__geo_interface__['coordinates'])\n",
    "NWx_SEy = list(NWxL.intersection(SEyL).__geo_interface__['coordinates'])\n",
    "              \n",
    "# pointList = [NW,SE,NWy_SEx,NWx_SEy]\n",
    "pointList = [NW,NWy_SEx,SE,NWx_SEy]\n",
    "\n",
    "poly = shapely.geometry.Polygon([p for p in pointList])\n",
    "\n",
    "\n",
    "polyLst = [list(p) for p in poly.__geo_interface__['coordinates'][0]]\n",
    "print(polyLst)\n",
    "\n",
    "w = shapefile.Writer(shapeType=shapefile.POLYGON)\n",
    "w.field('name')\n",
    "w.poly(parts=[polyLst])\n",
    "w.record('t1')\n",
    "w.save(r'H:\\Development\\polyTest.shp')"
   ]
  },
  {
   "cell_type": "code",
   "execution_count": null,
   "metadata": {},
   "outputs": [],
   "source": [
    "#X long\n",
    "# 0 = primmeridian  \n",
    "# 180 = antimeridian\n",
    "# pos = Ehem\n",
    "# neg = Whem\n",
    "\n",
    "#Y Lat\n",
    "# 0 = equator\n",
    "# 90.0 (x=0) = Npole\n",
    "# -90.0 (x=0) = Spole\n",
    "# pos = Nhem\n",
    "# neg = Shem"
   ]
  }
 ],
 "metadata": {
  "kernelspec": {
   "display_name": "Python 3",
   "language": "python",
   "name": "python3"
  },
  "language_info": {
   "codemirror_mode": {
    "name": "ipython",
    "version": 3
   },
   "file_extension": ".py",
   "mimetype": "text/x-python",
   "name": "python",
   "nbconvert_exporter": "python",
   "pygments_lexer": "ipython3",
   "version": "3.6.2"
  }
 },
 "nbformat": 4,
 "nbformat_minor": 2
}
