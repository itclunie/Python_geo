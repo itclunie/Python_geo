{
 "cells": [
  {
   "cell_type": "code",
   "execution_count": 1,
   "metadata": {},
   "outputs": [],
   "source": [
    "import csv, os\n",
    "\n",
    "csvDIR = r\"/Users/itclunie/Desktop/ECON/find industry/ChinaVIIRS/\"\n",
    "\n",
    "pathList = []\n",
    "for filename in os.listdir(csvDIR):\n",
    "    if '.csv' in filename and not 'combined.csv' in filename:\n",
    "        pathList.append(csvDIR + \"/\" + filename)\n",
    "\n",
    "outputCSV = str(csvDIR + \"/\" + \"combined.csv\")\n"
   ]
  },
  {
   "cell_type": "code",
   "execution_count": 2,
   "metadata": {},
   "outputs": [],
   "source": [
    "#grab headers\n",
    "with open(pathList[0], 'r') as output:\n",
    "    reader = csv.reader(output, lineterminator = '\\n')\n",
    "    row1 = next(reader)\n",
    "    \n",
    "print(row1)\n",
    "\n",
    "#write headers\n",
    "with open(outputCSV, 'w') as outputWrite:\n",
    "    writer = csv.writer(outputWrite, lineterminator = '\\n')\n",
    "    writer.writerows([row1])"
   ]
  },
  {
   "cell_type": "code",
   "execution_count": 3,
   "metadata": {},
   "outputs": [],
   "source": [
    "\n",
    "with open(outputCSV, 'a') as outputWrite:\n",
    "    writer = csv.writer(outputWrite, lineterminator = '\\n')\n",
    "\n",
    "    for csvpath in pathList:\n",
    "        with open(csvpath, 'r') as output:\n",
    "            reader = csv.reader(output, lineterminator = '\\n')\n",
    "            next(reader)\n",
    "            \n",
    "            for row in reader:\n",
    "                writer.writerows([row])"
   ]
  }
 ],
 "metadata": {
  "kernelspec": {
   "display_name": "Python 3",
   "language": "python",
   "name": "python3"
  },
  "language_info": {
   "codemirror_mode": {
    "name": "ipython",
    "version": 3
   },
   "file_extension": ".py",
   "mimetype": "text/x-python",
   "name": "python",
   "nbconvert_exporter": "python",
   "pygments_lexer": "ipython3",
   "version": "3.6.4"
  }
 },
 "nbformat": 4,
 "nbformat_minor": 2
}
